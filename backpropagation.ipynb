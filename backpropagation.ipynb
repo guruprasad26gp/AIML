{
 "cells": [
  {
   "cell_type": "code",
   "execution_count": 10,
   "id": "5ac4119b",
   "metadata": {},
   "outputs": [],
   "source": [
    "import numpy as np "
   ]
  },
  {
   "cell_type": "code",
   "execution_count": 11,
   "id": "7a12521c",
   "metadata": {},
   "outputs": [],
   "source": [
    "X = np.array(([2, 9], [1, 5], [3, 6]), dtype=float)\n",
    "y = np.array(([92], [86], [89]), dtype=float) \n",
    "X = X/np.amax(X,axis=0) \n",
    "y = y/100 "
   ]
  },
  {
   "cell_type": "code",
   "execution_count": 12,
   "id": "5c36b089",
   "metadata": {},
   "outputs": [],
   "source": [
    "def sigmoid (x):\n",
    "    return 1/(1 + np.exp(-x))"
   ]
  },
  {
   "cell_type": "code",
   "execution_count": 13,
   "id": "53dd77cf",
   "metadata": {},
   "outputs": [],
   "source": [
    "def derivatives_sigmoid(x):\n",
    "    return x * (1 - x)"
   ]
  },
  {
   "cell_type": "code",
   "execution_count": 14,
   "id": "90f8d71e",
   "metadata": {},
   "outputs": [],
   "source": [
    "epoch=5000 \n",
    "lr=0.1 \n",
    "inputlayer_neurons = 2 \n",
    "hiddenlayer_neurons = 3 \n",
    "output_neurons = 1 \n",
    "wh=np.random.uniform(size=(inputlayer_neurons,hiddenlayer_neurons)) \n",
    "bh=np.random.uniform(size=(1,hiddenlayer_neurons)) \n",
    "wout=np.random.uniform(size=(hiddenlayer_neurons,output_neurons)) \n",
    "bout=np.random.uniform(size=(1,output_neurons)) \n",
    "for i in range(epoch):\n",
    "    hinp1=np.dot(X,wh)\n",
    "hinp=hinp1 + bh \n",
    "hlayer_act = sigmoid(hinp)\n",
    "outinp1=np.dot(hlayer_act,wout)\n",
    "outinp= outinp1+ bout \n",
    "output = sigmoid(outinp)"
   ]
  },
  {
   "cell_type": "code",
   "execution_count": 15,
   "id": "90408189",
   "metadata": {},
   "outputs": [],
   "source": [
    "EO = y-output \n",
    "outgrad = derivatives_sigmoid(output)\n",
    "d_output = EO* outgrad \n",
    "EH = d_output.dot(wout.T)"
   ]
  },
  {
   "cell_type": "code",
   "execution_count": 16,
   "id": "bae2373e",
   "metadata": {},
   "outputs": [
    {
     "name": "stdout",
     "output_type": "stream",
     "text": [
      "Input: \n",
      "[[0.66666667 1.        ]\n",
      " [0.33333333 0.55555556]\n",
      " [1.         0.66666667]]\n"
     ]
    }
   ],
   "source": [
    "hiddengrad = derivatives_sigmoid(hlayer_act)\n",
    "d_hiddenlayer = EH * hiddengrad \n",
    "wout += hlayer_act.T.dot(d_output) *lr\n",
    "wh += X.T.dot(d_hiddenlayer) *lr\n",
    "print(\"Input: \\n\" + str(X))"
   ]
  },
  {
   "cell_type": "code",
   "execution_count": 17,
   "id": "dd8aee50",
   "metadata": {},
   "outputs": [
    {
     "name": "stdout",
     "output_type": "stream",
     "text": [
      "Actual Output: \n",
      "[[0.92]\n",
      " [0.86]\n",
      " [0.89]]\n",
      "Predicted Output: \n",
      " [[0.79153344]\n",
      " [0.7794947 ]\n",
      " [0.79316091]]\n"
     ]
    }
   ],
   "source": [
    "print(\"Actual Output: \\n\" + str(y))\n",
    "print(\"Predicted Output: \\n\" ,output)"
   ]
  },
  {
   "cell_type": "code",
   "execution_count": null,
   "id": "9dd94a97",
   "metadata": {},
   "outputs": [],
   "source": []
  }
 ],
 "metadata": {
  "kernelspec": {
   "display_name": "Python 3 (ipykernel)",
   "language": "python",
   "name": "python3"
  },
  "language_info": {
   "codemirror_mode": {
    "name": "ipython",
    "version": 3
   },
   "file_extension": ".py",
   "mimetype": "text/x-python",
   "name": "python",
   "nbconvert_exporter": "python",
   "pygments_lexer": "ipython3",
   "version": "3.11.4"
  }
 },
 "nbformat": 4,
 "nbformat_minor": 5
}
